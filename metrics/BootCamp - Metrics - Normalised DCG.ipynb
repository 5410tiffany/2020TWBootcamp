{
  "nbformat": 4,
  "nbformat_minor": 0,
  "metadata": {
    "kernelspec": {
      "display_name": "Python 3",
      "language": "python",
      "name": "python3"
    },
    "language_info": {
      "codemirror_mode": {
        "name": "ipython",
        "version": 3
      },
      "file_extension": ".py",
      "mimetype": "text/x-python",
      "name": "python",
      "nbconvert_exporter": "python",
      "pygments_lexer": "ipython3",
      "version": "3.6.7"
    },
    "colab": {
      "name": "BootCamp - Metrics - Normalised DCG",
      "provenance": [],
      "collapsed_sections": []
    },
    "accelerator": "GPU"
  },
  "cells": [
    {
      "cell_type": "markdown",
      "metadata": {
        "id": "XhTaXwCKVdnS",
        "colab_type": "text"
      },
      "source": [
        "# First things first\n",
        "* Click **File -> Save a copy in Drive** and click **Open in new tab** in the pop-up window to save your progress in Google Drive.\n",
        "* Click **Runtime -> Change runtime type** and select **GPU** in Hardware accelerator box to enable faster GPU training.\n"
      ]
    },
    {
      "cell_type": "markdown",
      "metadata": {
        "id": "7lPOwDG-Spr7",
        "colab_type": "text"
      },
      "source": [
        "# If you're using Colab notebook.\n"
      ]
    },
    {
      "cell_type": "code",
      "metadata": {
        "id": "BsUOKuh2Sse3",
        "colab_type": "code",
        "colab": {}
      },
      "source": [
        "try:\n",
        "    import google.colab\n",
        "    from google.colab.output import clear as clear_output\n",
        "    IN_COLAB = True\n",
        "except:\n",
        "    IN_COLAB = False\n",
        "    from IPython.display import clear_output as clear_output\n",
        "\n"
      ],
      "execution_count": 75,
      "outputs": []
    },
    {
      "cell_type": "code",
      "metadata": {
        "id": "9kShej8cgz-5",
        "colab_type": "code",
        "colab": {}
      },
      "source": [
        "# import required package\n",
        "from sklearn.metrics import ndcg_score, dcg_score\n",
        "import numpy as np"
      ],
      "execution_count": 76,
      "outputs": []
    },
    {
      "cell_type": "code",
      "metadata": {
        "id": "S4nEQUToo70D",
        "colab_type": "code",
        "colab": {}
      },
      "source": [
        "# Draw random data.\n",
        "n = 20\n",
        "draw_score = lambda up: np.random.randint(0, up, size=(1, n))\n"
      ],
      "execution_count": 77,
      "outputs": []
    },
    {
      "cell_type": "code",
      "metadata": {
        "id": "O9kB_X0Kg6JY",
        "colab_type": "code",
        "colab": {
          "base_uri": "https://localhost:8080/",
          "height": 49
        },
        "outputId": "b7fa5d1f-26f4-4854-cecc-d77305fdcaaf"
      },
      "source": [
        "# Releveance scores in output order \n",
        "relevance_score = draw_score(30)\n",
        "\n",
        "# Releveance scores in Ideal order \n",
        "ideal_relevance = -np.sort(-relevance_score)\n",
        "\n",
        "print(relevance_score, ideal_relevance, sep=\"\\n\")"
      ],
      "execution_count": 98,
      "outputs": [
        {
          "output_type": "stream",
          "text": [
            "[[15 17 16  1  5  4 13]]\n",
            "[[17 16 15 13  5  4  1]]\n"
          ],
          "name": "stdout"
        }
      ]
    },
    {
      "cell_type": "code",
      "metadata": {
        "id": "OQ3QYVVOm8cx",
        "colab_type": "code",
        "colab": {}
      },
      "source": [
        ""
      ],
      "execution_count": 98,
      "outputs": []
    },
    {
      "cell_type": "code",
      "metadata": {
        "id": "0MGugDGkiqcP",
        "colab_type": "code",
        "colab": {
          "base_uri": "https://localhost:8080/",
          "height": 32
        },
        "outputId": "7c093416-70d7-4954-8a3b-61fa95896baa"
      },
      "source": [
        "# Cumulative Gain\n",
        "cg = np.sum(relevance_score)\n",
        "cg\n"
      ],
      "execution_count": 99,
      "outputs": [
        {
          "output_type": "execute_result",
          "data": {
            "text/plain": [
              "71"
            ]
          },
          "metadata": {
            "tags": []
          },
          "execution_count": 99
        }
      ]
    },
    {
      "cell_type": "code",
      "metadata": {
        "id": "PdyzVcBGkmWD",
        "colab_type": "code",
        "colab": {}
      },
      "source": [
        "def dcg_function(score):\n",
        "    \"\"\"\n",
        "      score: np array of relevance score.\n",
        "      returns: Discounted Cumulative Gain, float.\n",
        "    \"\"\"\n",
        "    # Generated the log2([2 ..... n+1])\n",
        "    x = np.asarray(range(score.shape[-1])) + 2\n",
        "\n",
        "    # Divided the score by log value, sum and return.\n",
        "    return np.sum(score / np.log2(x))"
      ],
      "execution_count": 100,
      "outputs": []
    },
    {
      "cell_type": "code",
      "metadata": {
        "id": "1s_KnxaFi1rX",
        "colab_type": "code",
        "colab": {
          "base_uri": "https://localhost:8080/",
          "height": 32
        },
        "outputId": "baaca4a1-c3c5-400e-df5f-5833143d0a4c"
      },
      "source": [
        "# Discounted Cumulative gain\n",
        "dcg = dcg_function(relevance_score)\n",
        "\n",
        "# Ideal Discounted Cumulative gain\n",
        "idcg = dcg_function(ideal_relevance)\n",
        "\n",
        "dcg, idcg\n"
      ],
      "execution_count": 101,
      "outputs": [
        {
          "output_type": "execute_result",
          "data": {
            "text/plain": [
              "(41.8489084867263, 43.88609743003557)"
            ]
          },
          "metadata": {
            "tags": []
          },
          "execution_count": 101
        }
      ]
    },
    {
      "cell_type": "code",
      "metadata": {
        "id": "4ujifIA2hcZz",
        "colab_type": "code",
        "colab": {
          "base_uri": "https://localhost:8080/",
          "height": 32
        },
        "outputId": "bf07004b-a46a-4ffb-f906-8f3fac393c9f"
      },
      "source": [
        "ndcg = dcg / idcg\n",
        "ndcg\n"
      ],
      "execution_count": 102,
      "outputs": [
        {
          "output_type": "execute_result",
          "data": {
            "text/plain": [
              "0.9535800842953281"
            ]
          },
          "metadata": {
            "tags": []
          },
          "execution_count": 102
        }
      ]
    },
    {
      "cell_type": "markdown",
      "metadata": {
        "id": "wsNkLwIfxcxf",
        "colab_type": "text"
      },
      "source": [
        "# Compare with package functions value.\n",
        "\n",
        "\n"
      ]
    },
    {
      "cell_type": "code",
      "metadata": {
        "id": "-UJXAk-cxcxg",
        "colab_type": "code",
        "colab": {
          "base_uri": "https://localhost:8080/",
          "height": 82
        },
        "outputId": "245bad72-d035-4315-9c40-34f9bd659a89"
      },
      "source": [
        "# DCG score \n",
        "dcg = dcg_score(ideal_relevance, relevance_score) \n",
        "print(\"DCG score : \", dcg) \n",
        "   \n",
        "# IDCG score \n",
        "idcg = dcg_score(ideal_relevance, ideal_relevance) \n",
        "print(\"IDCG score : \", idcg) \n",
        "   \n",
        "# Normalized DCG score \n",
        "ndcg = dcg / idcg\n",
        "print(\"nDCG score : \", ndcg) \n",
        "   \n",
        "# or we can use the scikit-learn ndcg_score package \n",
        "print(\"nDCG score (from package function) : \",\n",
        "      ndcg_score(ideal_relevance, relevance_score)) "
      ],
      "execution_count": 103,
      "outputs": [
        {
          "output_type": "stream",
          "text": [
            "DCG score :  42.087048979583386\n",
            "IDCG score :  43.886097430035555\n",
            "nDCG score :  0.9590064153387012\n",
            "nDCG score (from package function) :  0.9590064153387011\n"
          ],
          "name": "stdout"
        }
      ]
    },
    {
      "cell_type": "code",
      "metadata": {
        "id": "Lov3hRouhOjS",
        "colab_type": "code",
        "colab": {}
      },
      "source": [
        ""
      ],
      "execution_count": 103,
      "outputs": []
    }
  ]
}
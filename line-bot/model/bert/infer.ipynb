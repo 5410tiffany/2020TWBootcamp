{
 "cells": [
  {
   "cell_type": "code",
   "execution_count": 2,
   "metadata": {},
   "outputs": [],
   "source": [
    "from infer_utils import evaluate, transfer_format\n",
    "from infer import inference"
   ]
  },
  {
   "cell_type": "code",
   "execution_count": 3,
   "metadata": {},
   "outputs": [],
   "source": [
    "args, model, tokenizer=inference()"
   ]
  },
  {
   "cell_type": "code",
   "execution_count": 4,
   "metadata": {},
   "outputs": [],
   "source": [
    "input_={'context':\"Rap is usually delivered over a beat, typically provided by a DJ, turntablist, beatboxer, or performed a cappella without accompaniment. Stylistically, rap occupies a gray area between speech, prose, poetry, and singing. The word, which predates the musical form, originally meant to lightly strike, and is now used to describe quick speech or repartee. The word had been used in British English since the 16th century. It was part of the African American dialect of English in the 1960s meaning to converse, and very soon after that in its present usage as a term denoting the musical style. Today, the term rap is so closely associated with hip-hop music that many writers use the terms interchangeably.\",\n",
    "       \"qas\":[{'question': 'What is the original meaning of the word rap?'},\n",
    " {'question': 'What does rap currently mean?'},\n",
    " {'question': 'When was rap first used?'},\n",
    " {'question': 'What is rap closely associated with today?'},\n",
    " {'question': 'Who is the most famous rap singer today?'},\n",
    " {'question': 'When did rap become popular?'},\n",
    " {'question': 'What does hip-hop mean?'},\n",
    " {'question': 'What is the difference between hip-hop and rap?'},\n",
    " {'question': 'What are the other musical styles besides rap?'},\n",
    " {'question': 'How is rap usually delivered?'}]}\n",
    "\n",
    "transfer_format(input_)"
   ]
  },
  {
   "cell_type": "code",
   "execution_count": 5,
   "metadata": {},
   "outputs": [
    {
     "name": "stderr",
     "output_type": "stream",
     "text": [
      "100%|██████████| 1/1 [00:00<00:00, 219.16it/s]\n",
      "convert squad examples to features: 100%|██████████| 10/10 [00:00<00:00, 110.12it/s]\n",
      "add example index and unique id: 100%|██████████| 10/10 [00:00<00:00, 45246.00it/s]\n",
      "Evaluating: 100%|██████████| 2/2 [00:06<00:00,  3.32s/it]\n"
     ]
    }
   ],
   "source": [
    "# Evaluate\n",
    "predictions = evaluate(args, model, tokenizer)"
   ]
  },
  {
   "cell_type": "code",
   "execution_count": 6,
   "metadata": {},
   "outputs": [
    {
     "data": {
      "text/plain": [
       "OrderedDict([('1', 'to lightly strike'),\n",
       "             ('2', 'quick speech or repartee'),\n",
       "             ('3', '16th century'),\n",
       "             ('4', 'hip-hop music'),\n",
       "             ('5', ''),\n",
       "             ('6', 'in the 1960s'),\n",
       "             ('7', ''),\n",
       "             ('8', ''),\n",
       "             ('9', ''),\n",
       "             ('10', 'over a beat')])"
      ]
     },
     "execution_count": 6,
     "metadata": {},
     "output_type": "execute_result"
    }
   ],
   "source": [
    "predictions"
   ]
  },
  {
   "cell_type": "code",
   "execution_count": null,
   "metadata": {},
   "outputs": [],
   "source": []
  }
 ],
 "metadata": {
  "kernelspec": {
   "display_name": "Python 3",
   "language": "python",
   "name": "python3"
  },
  "language_info": {
   "codemirror_mode": {
    "name": "ipython",
    "version": 3
   },
   "file_extension": ".py",
   "mimetype": "text/x-python",
   "name": "python",
   "nbconvert_exporter": "python",
   "pygments_lexer": "ipython3",
   "version": "3.6.10"
  }
 },
 "nbformat": 4,
 "nbformat_minor": 2
}

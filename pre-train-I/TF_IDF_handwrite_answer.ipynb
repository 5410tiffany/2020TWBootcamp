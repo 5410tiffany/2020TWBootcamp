{
 "cells": [
  {
   "cell_type": "code",
   "execution_count": 1,
   "metadata": {
    "colab": {},
    "colab_type": "code",
    "executionInfo": {
     "elapsed": 662,
     "status": "ok",
     "timestamp": 1592824695442,
     "user": {
      "displayName": "Ching-Ting Wu",
      "photoUrl": "",
      "userId": "01197185970447698204"
     },
     "user_tz": -480
    },
    "id": "VJT8WZqsDNVf",
    "scrolled": true
   },
   "outputs": [],
   "source": [
    "sentences=['''watching time chasers it obvious that it was made by a bunch of friends maybe they were sitting around one day in film \n",
    "       school and said hey lets pool our money together and make a really bad movie! or something like that what ever they said \n",
    "       they still ended up making a really bad movie--dull story bad script lame acting poor cinematography bottom of the barrel \n",
    "       stock music etc all corners were cut except the one that would have prevented this films release lifes like that''',\n",
    "       '''i saw this film about 20 years ago and remember it as being particularly nasty i believe it is based on a true incident:\n",
    "       a young man breaks into a nurses home and rapes tortures and kills various womenit is in black and white but saves the \n",
    "       colour for one shocking shotat the end the film seems to be trying to make some political statement but it just comes \n",
    "       across as confused and obsceneavoid''',\n",
    "       '''minor spoilersin new york joan barnard elvire audrey is informed that her husband the archeologist arthur barnard john \n",
    "       saxon was mysteriously murdered in italy while searching an etruscan tomb joan decides to travel to italy in the company \n",
    "       of her colleague who offers his support once in italy she starts having visions relative to an ancient people and maggots\n",
    "       many maggots after shootings and weird events joan realizes that her father is an international drug dealer there are \n",
    "       drugs hidden in the tomb and her colleague is a detective of the narcotic department the story ends back in new york \n",
    "       when joan and her colleague decide to get married with each other in a very romantic end yesterday i had the displeasure \n",
    "       of wasting my time watching this crap the story is so absurd mixing thriller crime supernatural and horror and even a \n",
    "       romantic end in a non-sense way the acting is the worst possible highlighting the horrible performance of the beautiful \n",
    "       elvire audrey john saxon just gives his name to the credits and works less than five minutes when his character is \n",
    "       killed the special effects are limited to maggots everywhere the direction is ridiculous i lost a couple of hours of my \n",
    "       life watching assassinio al cimitero etrusco if you have the desire or curiosity of seeing this trash choose another \n",
    "       movie go to a pizzeria watch tv go sleep navigate in internet go to the gym but do not waste your time like i did my \n",
    "       vote is twotitle brazil: o mistério etrusco the etruscan mystery''',\n",
    "       '''i went to see this film with a great deal of excitement as i was at school with the director he was even a good friend \n",
    "       of mine for a while but sorry mate this film stinksi can only talk about what was wrong with the first half because \n",
    "       thats when i walked out and went to the pub for a much needed drink:1 someones standing on a balcony about to jump and \n",
    "       so you send a helicopter to shine a searchlight on them i dont think so - nothing would make them more likely to jump2 \n",
    "       local radio doesnt send reporters to cover people about to attempt suicide - again for fear of pressuring them into \n",
    "       jumping - or for fear of encouraging copy-cat instances3 whatever the circumstances radio reporters dont do live \n",
    "       broadcasts from the 10th floor of a tower block radio cars dont carry leads long enough to connect the microphone and \n",
    "       headphones to the transmitter4 the stuck in the lift scene was utterly derivative5 the acting and direction was almost \n",
    "       non existenti could go on but i wont''']"
   ]
  },
  {
   "cell_type": "code",
   "execution_count": 2,
   "metadata": {
    "colab": {
     "base_uri": "https://localhost:8080/",
     "height": 51
    },
    "colab_type": "code",
    "executionInfo": {
     "elapsed": 1509,
     "status": "ok",
     "timestamp": 1592824696298,
     "user": {
      "displayName": "Ching-Ting Wu",
      "photoUrl": "",
      "userId": "01197185970447698204"
     },
     "user_tz": -480
    },
    "id": "ef60eynaDamE",
    "outputId": "d1922c4e-5525-4fe2-cb31-533f63fb2997"
   },
   "outputs": [
    {
     "name": "stdout",
     "output_type": "stream",
     "text": [
      "[nltk_data] Downloading package punkt to /root/nltk_data...\n",
      "[nltk_data]   Package punkt is already up-to-date!\n"
     ]
    }
   ],
   "source": [
    "import math\n",
    "import nltk\n",
    "nltk.download('punkt')\n",
    "\n",
    "from typing import List\n",
    "from nltk import word_tokenize\n",
    "from collections import Counter\n",
    "\n",
    "\n",
    "def print_dict(in_dict, partial=True):\n",
    "    i=0\n",
    "    for k, v in in_dict.items():\n",
    "        print(\"{:10}: {:4f}\".format(k, v))\n",
    "        i += 1\n",
    "        if partial and i>20:\n",
    "            break\n",
    "\n"
   ]
  },
  {
   "cell_type": "markdown",
   "metadata": {
    "colab_type": "text",
    "id": "gbmnIajdFNtz"
   },
   "source": [
    "## Counting Term frequency. (TF)\n"
   ]
  },
  {
   "cell_type": "markdown",
   "metadata": {
    "colab_type": "text",
    "id": "ro51UyhSDNVl"
   },
   "source": [
    "There are several options to count the term frequency $tf(t,d)$. \n",
    "\n",
    "For additional info, you can check [wiki](https://en.wikipedia.org/wiki/Tf–idf).\n",
    "\n",
    ".\n",
    "\n",
    "Here're some common ones:\n",
    "\n",
    "\n",
    "*   **Raw Count**:  \n",
    "    \n",
    "    The number of times that term t occurs in document d. \n",
    "\n",
    "    Available with `Counter`.\n",
    "\n",
    "    $tf(t,d) = f_{t,d}$\n",
    "\n",
    ".\n",
    "\n",
    "*   Normalized Term frequency: \n",
    "\n",
    "    Normalized **adjusted** w.r.t. the document length.\n",
    "\n",
    "    $tf(t,d) = \\frac{f_{t,d}}{\\text{# of words in }d}$\n",
    "\n",
    ".\n",
    "\n",
    "*   **Logarithmically scaled frequency**:  \n",
    "    $tf(t,d) = \\log (1 + f_{t,d})$\n",
    "\n",
    "\n"
   ]
  },
  {
   "cell_type": "code",
   "execution_count": 3,
   "metadata": {
    "colab": {},
    "colab_type": "code",
    "executionInfo": {
     "elapsed": 1501,
     "status": "ok",
     "timestamp": 1592824696299,
     "user": {
      "displayName": "Ching-Ting Wu",
      "photoUrl": "",
      "userId": "01197185970447698204"
     },
     "user_tz": -480
    },
    "id": "Mp0YkMrsNLmI"
   },
   "outputs": [],
   "source": [
    "def term_frequency(document: str, corpus: dict =None):\n",
    "    \"\"\"\n",
    "    Counts the term frequency for a given Document string.\n",
    "    Instructions are given for computing `Normalized Term frequency`.\n",
    "    \n",
    "    \n",
    "    Inputs:\n",
    "        document: str\n",
    "        \n",
    "    Returns:\n",
    "        tf: A dict, where tf[term] = frequency(term, doc_idx)\n",
    "    \"\"\"\n",
    "\n",
    "    #### Your code starts here ####\n",
    "\n",
    "    # Tokenize: Document --> Corpus (allow repetitive words).\n",
    "    if not corpus:\n",
    "        corpus = word_tokenize(document)\n",
    "    print(\"# of words in corpus = \", len(corpus))\n",
    "\n",
    "    # Counting the Raw Frequency given the above Corpus.\n",
    "    doc_freq = Counter(corpus)\n",
    "    print(\"freq len = \", len(doc_freq.values()))\n",
    "\n",
    "    # Normalize the TF score w.r.t. the document length.\n",
    "    tf = {}\n",
    "    for k, v in doc_freq.items():\n",
    "        tf[k] = v/sum(doc_freq.values())\n",
    "\n",
    "    ###^^ Your code ends here ^^###\n",
    "\n",
    "    return tf\n",
    "\n"
   ]
  },
  {
   "cell_type": "code",
   "execution_count": 4,
   "metadata": {
    "colab": {
     "base_uri": "https://localhost:8080/",
     "height": 510
    },
    "colab_type": "code",
    "executionInfo": {
     "elapsed": 1496,
     "status": "ok",
     "timestamp": 1592824696300,
     "user": {
      "displayName": "Ching-Ting Wu",
      "photoUrl": "",
      "userId": "01197185970447698204"
     },
     "user_tz": -480
    },
    "id": "4iXW8w4FOxmb",
    "outputId": "8e716830-f06a-4081-fbf3-d5d05af3850a"
   },
   "outputs": [
    {
     "name": "stdout",
     "output_type": "stream",
     "text": [
      "# of words in corpus =  89\n",
      "freq len =  70\n",
      "# of words in corpus =  75\n",
      "freq len =  59\n",
      "# of words in corpus =  260\n",
      "freq len =  164\n",
      "# of words in corpus =  182\n",
      "freq len =  118\n",
      "watching  : 0.011236\n",
      "time      : 0.011236\n",
      "chasers   : 0.011236\n",
      "it        : 0.022472\n",
      "obvious   : 0.011236\n",
      "that      : 0.044944\n",
      "was       : 0.011236\n",
      "made      : 0.011236\n",
      "by        : 0.011236\n",
      "a         : 0.033708\n",
      "bunch     : 0.011236\n",
      "of        : 0.022472\n",
      "friends   : 0.011236\n",
      "maybe     : 0.011236\n",
      "they      : 0.033708\n",
      "were      : 0.022472\n",
      "sitting   : 0.011236\n",
      "around    : 0.011236\n",
      "one       : 0.022472\n",
      "day       : 0.011236\n",
      "in        : 0.011236\n"
     ]
    }
   ],
   "source": [
    "tf_all = [term_frequency(doc) for doc in sentences]\n",
    "print_dict(tf_all[0])\n",
    "\n"
   ]
  },
  {
   "cell_type": "markdown",
   "metadata": {
    "colab_type": "text",
    "id": "z2fzX5jbDNV2"
   },
   "source": [
    "## Inverse Document Frequency (IDF)"
   ]
  },
  {
   "cell_type": "markdown",
   "metadata": {
    "colab_type": "text",
    "id": "FAUkM5a_V88g"
   },
   "source": [
    "Measuring the information provided by specific word.\n",
    "\n",
    ".\n",
    "\n",
    "IDF weight:\n",
    "\n",
    " $n_t = |{d \\in D:t \\in d}|$\n",
    " "
   ]
  },
  {
   "cell_type": "code",
   "execution_count": 5,
   "metadata": {
    "colab": {},
    "colab_type": "code",
    "executionInfo": {
     "elapsed": 1489,
     "status": "ok",
     "timestamp": 1592824696301,
     "user": {
      "displayName": "Ching-Ting Wu",
      "photoUrl": "",
      "userId": "01197185970447698204"
     },
     "user_tz": -480
    },
    "id": "7Ndn2lsuDNV2"
   },
   "outputs": [],
   "source": [
    "all_copus=[]\n",
    "\n",
    "for doc in sentences:\n",
    "    all_copus += word_tokenize(doc)\n",
    "\n",
    "corpus=set(all_copus)\n",
    "\n",
    "# corpus\n",
    "\n"
   ]
  },
  {
   "cell_type": "code",
   "execution_count": 6,
   "metadata": {
    "colab": {},
    "colab_type": "code",
    "executionInfo": {
     "elapsed": 1485,
     "status": "ok",
     "timestamp": 1592824696301,
     "user": {
      "displayName": "Ching-Ting Wu",
      "photoUrl": "",
      "userId": "01197185970447698204"
     },
     "user_tz": -480
    },
    "id": "DtgUdl6lZLIS"
   },
   "outputs": [],
   "source": [
    "def count_idf(corpus_cross_doc: set,\n",
    "              tf_all_docs: List[dict], \n",
    "              number_of_docs: int):\n",
    "\n",
    "    w_idf = dict.fromkeys(corpus_cross_doc,0)\n",
    "\n",
    "    for tf_single_doc in tf_all_docs:\n",
    "        for term in tf_single_doc.keys():\n",
    "            w_idf[term] += 1\n",
    "    \n",
    "    idf={}\n",
    "    for word in corpus:\n",
    "        idf[word]=math.log(number_of_docs / w_idf[word]+0.001)\n",
    "\n",
    "    return idf\n",
    "\n"
   ]
  },
  {
   "cell_type": "code",
   "execution_count": 7,
   "metadata": {
    "colab": {
     "base_uri": "https://localhost:8080/",
     "height": 374
    },
    "colab_type": "code",
    "executionInfo": {
     "elapsed": 1481,
     "status": "ok",
     "timestamp": 1592824696301,
     "user": {
      "displayName": "Ching-Ting Wu",
      "photoUrl": "",
      "userId": "01197185970447698204"
     },
     "user_tz": -480
    },
    "id": "RVRwgTDfZMtt",
    "outputId": "a46b5eff-ab81-40d2-8dc2-0b00bd97fb30"
   },
   "outputs": [
    {
     "name": "stdout",
     "output_type": "stream",
     "text": [
      "when      : 0.693647\n",
      "ended     : 1.386544\n",
      "them      : 1.386544\n",
      "ancient   : 1.386544\n",
      "narcotic  : 1.386544\n",
      "circumstances: 1.386544\n",
      "vote      : 1.386544\n",
      "mixing    : 1.386544\n",
      "romantic  : 1.386544\n",
      "name      : 1.386544\n",
      "almost    : 1.386544\n",
      "your      : 1.386544\n",
      "relative  : 1.386544\n",
      "fear      : 1.386544\n",
      "story     : 0.693647\n",
      "archeologist: 1.386544\n",
      "again     : 1.386544\n",
      "visions   : 1.386544\n",
      "great     : 1.386544\n",
      "from      : 1.386544\n",
      "mystery   : 1.386544\n"
     ]
    }
   ],
   "source": [
    "D=len(sentences)\n",
    "\n",
    "idf_weights = count_idf(corpus, tf_all, D)\n",
    "print_dict(idf_weights)\n"
   ]
  },
  {
   "cell_type": "markdown",
   "metadata": {
    "colab_type": "text",
    "id": "sspVYA0HDNWE"
   },
   "source": [
    "## TF-IDF \n",
    "\n",
    "Term frequency–Inverse document frequency\n",
    "\n",
    "\n",
    "$tfidf(t, d, D) = tf(t, d) \\cdot idf(t, D)$\n",
    "\n",
    "\n"
   ]
  },
  {
   "cell_type": "code",
   "execution_count": 8,
   "metadata": {
    "colab": {
     "base_uri": "https://localhost:8080/",
     "height": 374
    },
    "colab_type": "code",
    "executionInfo": {
     "elapsed": 1474,
     "status": "ok",
     "timestamp": 1592824696302,
     "user": {
      "displayName": "Ching-Ting Wu",
      "photoUrl": "",
      "userId": "01197185970447698204"
     },
     "user_tz": -480
    },
    "id": "l-jAj-CLDNWE",
    "outputId": "fc5e2fdb-12cc-48c5-8e4b-85f5994ab2ec"
   },
   "outputs": [
    {
     "name": "stdout",
     "output_type": "stream",
     "text": [
      "watching  : 0.007794\n",
      "time      : 0.007794\n",
      "chasers   : 0.015579\n",
      "it        : 0.015588\n",
      "obvious   : 0.015579\n",
      "that      : 0.031175\n",
      "was       : 0.003241\n",
      "made      : 0.015579\n",
      "by        : 0.015579\n",
      "a         : 0.000034\n",
      "bunch     : 0.015579\n",
      "of        : 0.006482\n",
      "friends   : 0.015579\n",
      "maybe     : 0.015579\n",
      "they      : 0.046737\n",
      "were      : 0.031158\n",
      "sitting   : 0.015579\n",
      "around    : 0.015579\n",
      "one       : 0.015588\n",
      "day       : 0.015579\n",
      "in        : 0.000011\n"
     ]
    }
   ],
   "source": [
    "tf_idf_all = [{word: tf[word] * idf_weights[word] for word in tf.keys()} for tf in tf_all]\n",
    "\n",
    "print_dict(tf_idf_all[0])\n"
   ]
  },
  {
   "cell_type": "code",
   "execution_count": 8,
   "metadata": {
    "colab": {},
    "colab_type": "code",
    "executionInfo": {
     "elapsed": 1469,
     "status": "ok",
     "timestamp": 1592824696302,
     "user": {
      "displayName": "Ching-Ting Wu",
      "photoUrl": "",
      "userId": "01197185970447698204"
     },
     "user_tz": -480
    },
    "id": "n4I2nLNqDNWI"
   },
   "outputs": [],
   "source": []
  }
 ],
 "metadata": {
  "colab": {
   "collapsed_sections": [],
   "name": "TF_IDF_handwrite.ipynb",
   "provenance": []
  },
  "kernelspec": {
   "display_name": "Python 3",
   "language": "python",
   "name": "python3"
  },
  "language_info": {
   "codemirror_mode": {
    "name": "ipython",
    "version": 3
   },
   "file_extension": ".py",
   "mimetype": "text/x-python",
   "name": "python",
   "nbconvert_exporter": "python",
   "pygments_lexer": "ipython3",
   "version": "3.6.8"
  }
 },
 "nbformat": 4,
 "nbformat_minor": 1
}

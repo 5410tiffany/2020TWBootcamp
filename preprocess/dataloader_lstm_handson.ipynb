{
  "nbformat": 4,
  "nbformat_minor": 0,
  "metadata": {
    "kernelspec": {
      "display_name": "Python 3",
      "language": "python",
      "name": "python3"
    },
    "language_info": {
      "codemirror_mode": {
        "name": "ipython",
        "version": 3
      },
      "file_extension": ".py",
      "mimetype": "text/x-python",
      "name": "python",
      "nbconvert_exporter": "python",
      "pygments_lexer": "ipython3",
      "version": "3.6.8"
    },
    "colab": {
      "name": "dataloader_lstm_handson.ipynb",
      "provenance": [],
      "collapsed_sections": []
    },
    "accelerator": "GPU"
  },
  "cells": [
    {
      "cell_type": "code",
      "metadata": {
        "id": "fmt0_KdcgcYQ",
        "colab_type": "code",
        "colab": {}
      },
      "source": [
        "import time\n",
        "import random\n",
        "import numpy as np\n",
        "\n",
        "import torch\n",
        "import torch.nn as nn\n",
        "from torch import optim\n",
        "import torch.nn.functional as F\n",
        "import torchvision as tv"
      ],
      "execution_count": null,
      "outputs": []
    },
    {
      "cell_type": "code",
      "metadata": {
        "id": "4cg15oTysy9R",
        "colab_type": "code",
        "colab": {
          "base_uri": "https://localhost:8080/",
          "height": 102
        },
        "outputId": "7b0c63d2-2f27-4df6-cc81-24cd55c769f6"
      },
      "source": [
        "\"\"\"\n",
        "Create dummy dataset\n",
        "\"\"\"\n",
        "BATCH_SIZE = 512\n",
        "NUM_DATA = BATCH_SIZE * 10\n",
        "NUM_CLASSES = 10\n",
        "DIM = 100\n",
        "LR = 1e-2\n",
        "VOCAB_SIZE = 100     # index 0 for PAD\n",
        "MIN_L = 10\n",
        "MAX_L = 50\n",
        "\n",
        "DEVICE = \"cpu\"\n",
        "if torch.cuda.is_available:\n",
        "    DEVICE = \"cuda:0\"\n",
        "\n",
        "# dummy sequence data generation\n",
        "# data format = [\n",
        "#  [5, 21, 5, 9, 478, 38, 1, 2],\n",
        "#  [9, 5, 3, 1, 4, 6, 7, 24, 44, 12, 2, 1, 3],\n",
        "#  [5, 1, 6, 4],\n",
        "#  ...\n",
        "# ]\n",
        "dummy_data = [[random.randint(1, VOCAB_SIZE - 1) for _ in range(random.randint(MIN_L, MAX_L))] for _ in range(NUM_DATA)]\n",
        "\n",
        "\n",
        "# (NUM_CLASS - 1e-10) is to avoid the random variable is 10.\n",
        "dummy_label = np.random.uniform(0, NUM_CLASSES - 1e-10, size=(NUM_DATA,)).astype(int) # \n",
        "\n",
        "print(\"max length: \", max([len(d) for d in dummy_data]))\n",
        "print(\"min length: \", min([len(d) for d in dummy_data]))\n",
        "print(\"max vocab index\", max([max(d) for d in dummy_data]))\n",
        "\n",
        "print(len(dummy_data))\n",
        "print(dummy_label.shape)\n"
      ],
      "execution_count": null,
      "outputs": [
        {
          "output_type": "stream",
          "text": [
            "max length:  50\n",
            "min length:  10\n",
            "max vocab index 99\n",
            "5120\n",
            "(5120,)\n"
          ],
          "name": "stdout"
        }
      ]
    },
    {
      "cell_type": "code",
      "metadata": {
        "id": "CeGlvdEEvJi_",
        "colab_type": "code",
        "colab": {
          "base_uri": "https://localhost:8080/",
          "height": 204
        },
        "outputId": "0d3cce42-ed2b-4289-c372-d0dc4fe78a1a"
      },
      "source": [
        "\"\"\"\n",
        "Model\n",
        "\"\"\"\n",
        "\n",
        "class BaseModel(nn.Module):\n",
        "    def __init__(self, input_size, num_classes):\n",
        "        super(BaseModel, self).__init__()\n",
        "        self.input_size = input_size\n",
        "\n",
        "        dim = 32\n",
        "        self.embedding = nn.Embedding(input_size, dim)\n",
        "        self.model = nn.Sequential(\n",
        "            nn.Linear(dim, dim),\n",
        "            nn.ReLU(),\n",
        "            nn.Linear(dim, dim),\n",
        "            nn.ReLU(),\n",
        "            nn.Linear(dim, num_classes),\n",
        "        )\n",
        "\n",
        "    def forward(self, x):\n",
        "\n",
        "        x = self.embedding(x)\n",
        "\n",
        "        return self.model(x.mean(1))\n",
        "\n",
        "model = BaseModel(DIM, NUM_CLASSES).to(DEVICE)\n",
        "\n",
        "print(model)\n",
        "print(DEVICE)"
      ],
      "execution_count": null,
      "outputs": [
        {
          "output_type": "stream",
          "text": [
            "BaseModel(\n",
            "  (embedding): Embedding(100, 32)\n",
            "  (model): Sequential(\n",
            "    (0): Linear(in_features=32, out_features=32, bias=True)\n",
            "    (1): ReLU()\n",
            "    (2): Linear(in_features=32, out_features=32, bias=True)\n",
            "    (3): ReLU()\n",
            "    (4): Linear(in_features=32, out_features=10, bias=True)\n",
            "  )\n",
            ")\n",
            "cuda:0\n"
          ],
          "name": "stdout"
        }
      ]
    },
    {
      "cell_type": "code",
      "metadata": {
        "id": "Xxb5Luf8Z5rP",
        "colab_type": "code",
        "colab": {}
      },
      "source": [
        "\"\"\"\n",
        "Create the optimizer and objective function\n",
        "\"\"\"\n",
        "loss_function = nn.CrossEntropyLoss()\n",
        "optimizer = optim.Adam(model.parameters(), lr=LR)\n",
        "\n",
        "\"\"\"\n",
        "Evaluation metrics\n",
        "\"\"\"\n",
        "from sklearn.metrics import roc_auc_score, accuracy_score, precision_score, recall_score\n",
        "\n",
        "def genMetrics(trueY, predY):\n",
        "    \"\"\"\n",
        "    Return acc and auc\n",
        "    \"\"\"\n",
        "    accuracy = accuracy_score(trueY, predY)\n",
        "    \n",
        "    return round(accuracy, 4)"
      ],
      "execution_count": null,
      "outputs": []
    },
    {
      "cell_type": "code",
      "metadata": {
        "id": "J4WsmeeZgcYs",
        "colab_type": "code",
        "colab": {
          "base_uri": "https://localhost:8080/",
          "height": 236
        },
        "outputId": "98bf59eb-79b2-4cff-ba81-1a8d3da4280f"
      },
      "source": [
        "\"\"\"\n",
        "Data Module\n",
        "\"\"\" \n",
        "\n",
        "class MyDataset(torch.utils.data.Dataset):\n",
        "    def __init__(self, data, transformations):\n",
        "        # data is composed of [xs, ys]\n",
        "        # where xs.shape = [size of total data, dimension]\n",
        "        # where ys.shape = [size of total data]\n",
        "\n",
        "        self.data = data\n",
        "        self.transformations = transformations\n",
        "\n",
        "        assert len(self.data) == len(self.transformations)\n",
        "\n",
        "    def __getitem__(self, index):\n",
        "        return tuple(transformation(data_[index]) if transformation else data_[index] \n",
        "                     for data_, transformation in zip(self.data, self.transformations))\n",
        "\n",
        "    def __len__(self):\n",
        "        return len(self.data[0])\n",
        "\n",
        "def getData_dataloader(x, y, batchSize):\n",
        "    # Return a dataloader object\n",
        "\n",
        "    x_transformation = None\n",
        "\n",
        "    y_transformation = None\n",
        "\n",
        "    d = MyDataset([x, y], [x_transformation, y_transformation])\n",
        "\n",
        "    ### TODO \n",
        "    # Create a dataloader object and return it\n",
        "\n",
        "    def custom_collate_func(batch):\n",
        "        # TODO\n",
        "        \n",
        "        # Input: batch\n",
        "        # batch = [data_tuples_1, data_tuples_2, ..., data_tuples_n]\n",
        "        # data_tuples = (unpadded sequence, label)\n",
        "        \n",
        "        # First TODO\n",
        "        # Extract the unpadded sequence from \"batch\", and assign it as \"data_\" (data_ will be list of list)\n",
        "        # Extract the lengths of all the unpadded sequence and assign it as \"lengths_\" (list)\n",
        "        # Extract the label from \"batch\", and assign it as \"label_\" (list)\n",
        "\n",
        "        # Second TODO\n",
        "        # Pad the sequence to the same length and assign it as \"data_\" (list of list)\n",
        "\n",
        "        # Third TODO\n",
        "        # Get the mask of the sequence. Mask denotes whether the elements in the padded data are existed in the origin unpadded data.\n",
        "        # For example, if the unpadded data is [4, 1, 3, 1] and the padded data is [4, 1, 3, 1, 0, 0],\n",
        "        # then the mask is [1, 1, 1, 1, 0, 0] \n",
        "        # mask: list of list, size is same as data_\n",
        "\n",
        "        # Forth TODO\n",
        "        # Transform data_ to torch.LongTensor, label_ to torch.LongTensor, lengths_ to torch.LongTensor, mask_ to torch.FloatTensor\n",
        "\n",
        "\n",
        "        return data_, label_, lengths_, mask_\n",
        "\n",
        "    return torch.utils.data.DataLoader(d, batch_size=batchSize, shuffle=True, num_workers=2, collate_fn=custom_collate_func)\n",
        "\n",
        "###########################################################################################\n",
        "#### Start training\n",
        "###########################################################################################\n",
        "\n",
        "# You can use getData_naive to see the output of data\n",
        "getData = getData_dataloader\n",
        "\n",
        "# Decorator for computing time\n",
        "def print_time(func):\n",
        "    def decorated_func(*args, **kwargs):\n",
        "        s = time.time()\n",
        "        ret = func(*args, **kwargs)\n",
        "        e = time.time()\n",
        "\n",
        "        print(f\"spend {e - s:.3f} s\")\n",
        "        return ret\n",
        "\n",
        "    return decorated_func\n",
        "\n",
        "@print_time\n",
        "def train(train_data, epoch, model, loss_function, optimizer):\n",
        "    print(\"\\n\" + \"=\"*30 + \"TRAIN\" + \"=\"*30)\n",
        "    y_p = []\n",
        "    y_t = []\n",
        "    model.train()\n",
        "    avg_loss = 0.0\n",
        "    count = 0\n",
        "    # need a batch dataloader\n",
        "    for batch in getData(train_data[0], train_data[1], BATCH_SIZE):\n",
        "        input_data = batch[0].to(DEVICE)\n",
        "        target_data = batch[1].to(DEVICE)\n",
        "\n",
        "        y_pred = model(input_data)\n",
        "        loss = loss_function(y_pred, target_data)\n",
        "\n",
        "        optimizer.zero_grad()\n",
        "        loss.backward()\n",
        "        optimizer.step()\n",
        "\n",
        "        avg_loss += loss.item()\n",
        "        #a better metric here\n",
        "        predictions = y_pred.data.max(1)[1].cpu().tolist()\n",
        "        y_p += predictions\n",
        "        y_t += target_data.tolist()\n",
        "        #a better metric here \n",
        "        count += 1\n",
        "        if count % 100 == 0:\n",
        "            print(f\"epoch: {epoch}, iterations: {count}, loss: {loss.item():.3f}\")\n",
        "\n",
        "    print(f\"the average loss after completion of {epoch} epochs is {avg_loss/count:.3f}\")\n",
        "    acc = genMetrics(y_t, y_p)\n",
        "    print(f\"acc: {acc:.3f}\")\n",
        "    print(\"=\"*60)\n",
        "\n",
        "epochs = 4\n",
        "for epoch in range(1, epochs+1):\n",
        "    train([dummy_data, dummy_label], epoch, model, loss_function, optimizer)\n"
      ],
      "execution_count": null,
      "outputs": [
        {
          "output_type": "error",
          "ename": "NameError",
          "evalue": "ignored",
          "traceback": [
            "\u001b[0;31m---------------------------------------------------------------------------\u001b[0m",
            "\u001b[0;31mNameError\u001b[0m                                 Traceback (most recent call last)",
            "\u001b[0;32m<ipython-input-1-e97393bb8c7a>\u001b[0m in \u001b[0;36m<module>\u001b[0;34m()\u001b[0m\n\u001b[1;32m      3\u001b[0m \"\"\" \n\u001b[1;32m      4\u001b[0m \u001b[0;34m\u001b[0m\u001b[0m\n\u001b[0;32m----> 5\u001b[0;31m \u001b[0;32mclass\u001b[0m \u001b[0mMyDataset\u001b[0m\u001b[0;34m(\u001b[0m\u001b[0mtorch\u001b[0m\u001b[0;34m.\u001b[0m\u001b[0mutils\u001b[0m\u001b[0;34m.\u001b[0m\u001b[0mdata\u001b[0m\u001b[0;34m.\u001b[0m\u001b[0mDataset\u001b[0m\u001b[0;34m)\u001b[0m\u001b[0;34m:\u001b[0m\u001b[0;34m\u001b[0m\u001b[0;34m\u001b[0m\u001b[0m\n\u001b[0m\u001b[1;32m      6\u001b[0m     \u001b[0;32mdef\u001b[0m \u001b[0m__init__\u001b[0m\u001b[0;34m(\u001b[0m\u001b[0mself\u001b[0m\u001b[0;34m,\u001b[0m \u001b[0mdata\u001b[0m\u001b[0;34m,\u001b[0m \u001b[0mtransformations\u001b[0m\u001b[0;34m)\u001b[0m\u001b[0;34m:\u001b[0m\u001b[0;34m\u001b[0m\u001b[0;34m\u001b[0m\u001b[0m\n\u001b[1;32m      7\u001b[0m         \u001b[0;31m# data is composed of [xs, ys]\u001b[0m\u001b[0;34m\u001b[0m\u001b[0;34m\u001b[0m\u001b[0;34m\u001b[0m\u001b[0m\n",
            "\u001b[0;31mNameError\u001b[0m: name 'torch' is not defined"
          ]
        }
      ]
    },
    {
      "cell_type": "code",
      "metadata": {
        "id": "OY1HXRN6XcVv",
        "colab_type": "code",
        "colab": {}
      },
      "source": [
        "\"\""
      ],
      "execution_count": null,
      "outputs": []
    }
  ]
}